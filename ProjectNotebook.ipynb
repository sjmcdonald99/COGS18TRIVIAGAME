{
 "cells": [
  {
   "cell_type": "markdown",
   "metadata": {},
   "source": [
    "# Project Description"
   ]
  },
  {
   "cell_type": "markdown",
   "metadata": {},
   "source": [
    "I did a trivia game about Harry Styles testing all your knowledge about him. Each function has a purpose for the game. The first function sets up the trivia game so it starts at 0, has all the questions with the correct answers to them, it will give you 1 point per question you get right and say wrong or correct. The display score function explains how you get your results so it shows what you got out of 8 and the percentage. Play again function asks if you want to play again."
   ]
  },
  {
   "cell_type": "markdown",
   "metadata": {},
   "source": [
    "## Project Code\n",
    "\n",
    "If it makes sense for your project, you can have code and outputs here in the notebook as well."
   ]
  },
  {
   "cell_type": "code",
   "execution_count": 1,
   "metadata": {},
   "outputs": [],
   "source": [
    "from my_module.functions import new_game"
   ]
  },
  {
   "cell_type": "code",
   "execution_count": null,
   "metadata": {},
   "outputs": [
    {
     "name": "stdout",
     "output_type": "stream",
     "text": [
      "What is Harry's Full name?:\n",
      "A. Harold Edward Styles\n",
      "B. Harry Ethan Styles\n",
      "C. Harry Edward Styles\n",
      "D. Harold   Emmett Styles\n"
     ]
    }
   ],
   "source": [
    "new_game()"
   ]
  },
  {
   "cell_type": "code",
   "execution_count": null,
   "metadata": {},
   "outputs": [],
   "source": [
    "!pytest my_module/test_functions.py"
   ]
  },
  {
   "cell_type": "code",
   "execution_count": null,
   "metadata": {},
   "outputs": [],
   "source": [
    "questions = {\n",
    "    1 :{\n",
    "        \"question\": \"What is Harry's full name?\", \n",
    "        \"answer\": \"Harry Edward Styles\"\n",
    "    },\n",
    "    2 :{\n",
    "        \"question\": \"What is Harry's birthday?\",\n",
    "        \"answer\": \"February 1st 1994\"\n",
    "    },\n",
    "    3 :{\n",
    "        \"question\": \"Which song was his first solo release to go #1?\",\n",
    "        \"answer\": \"Sign of the Times\"\n",
    "        \n",
    "    },\n",
    "    4 :{ \n",
    "        \"question\": \"What is Harry's favorite movie?\",\n",
    "        \"answer\": \"The Notebook\"\n",
    "    },\n",
    "  \n",
    "    5 :{\n",
    "        \"question\": \"What was the name of the bakery where Harry worked?\",\n",
    "        \"answer\": \"W Mandeville Bakery\"\n",
    "    },\n",
    "    6 :{\n",
    "        \"question\": \"Which tattoo did Harry first get?\",\n",
    "        \"answer\": \"A star on his left arm\"\n",
    "    },\n",
    "    7 :{\n",
    "        \"question\": \"Which musical artist was the first to hear his second album Fine Line?\",\n",
    "        \"answer\": \"Stevie Nicks\"\n",
    "    },\n",
    "    8 :{\n",
    "        \"question\": \"Who dressed Harry for the 2019 Met Gala?\",\n",
    "        \"answer\": \"Gucci\"\n",
    "    }\n",
    "}"
   ]
  },
  {
   "cell_type": "code",
   "execution_count": null,
   "metadata": {},
   "outputs": [],
   "source": [
    "# Do a bunch of things.\n",
    "def check_answer(answer,guess):\n",
    "    if answer == guess:\n",
    "        print(\"CORRECT\")\n",
    "        return 1\n",
    "    else:\n",
    "        print (\"WRONG\")\n",
    "        return 0"
   ]
  },
  {
   "cell_type": "code",
   "execution_count": null,
   "metadata": {},
   "outputs": [],
   "source": [
    "# test it out\n",
    "check_answer('C', 'C')"
   ]
  },
  {
   "cell_type": "code",
   "execution_count": null,
   "metadata": {},
   "outputs": [],
   "source": [
    "questions = {\n",
    " \"What is Harry's Full name?:\" : \"C\",\n",
    " \"What is Harry's Birthday?:\" : \"B\",\n",
    " \"Which song was his first solo release to go number 1?:\" : \"A\",\n",
    " \"Which of these is one of his favorite movies of all time?:\" : \"D\",\n",
    " \"What was the name of the bakery where Harry worked?:\" : \"C\",\n",
    " \"Which tattoo did Harry get first?:\" : \"B\",\n",
    " \"Which musical artist was the first to hear his album Fine Line?:\" : \"A\",\n",
    " \"Who dressed Harry for the 2019 Met Gala?:\" : \"D\",\n",
    "}"
   ]
  },
  {
   "cell_type": "code",
   "execution_count": null,
   "metadata": {},
   "outputs": [],
   "source": [
    "options = [[\"A. Harold Edward Styles\", \"B. Harry Ethan Styles\", \"C. Harry Edward Styles\", \"D. Harold     Emmett Styles\"],\n",
    "          [\"A. January 31st 1994\", \"B. February 1st 1994\", \"C. December 15th 1995\", \"C. June 4th 1999\"], \n",
    "          [\"A. Sign of the Times\", \"B. Adore You\", \"C. Golden\", \"D. Fine Line\"],\n",
    "          [\"A. Love Actually\", \"B. Dunkirk\", \"C. 10 Thing I Hate About You\", \"D. The Notebook\"],\n",
    "          [\"A. Mongolia Bakery\", \"B. Magnolia Bakery\", \"C. Elizabeths Bakery\", \"D. W Mandeville Bakery\"],\n",
    "          [\"A. Butterfly on his stomach\", \"B. A star on his left arm\", \"C. A ship on his left arm\", \"D. Tiger on his thigh\"],\n",
    "          [\"A. Stevie Nicks\", \"B. Dolly Parton\", \"C. Cher\", \"D. Elton John\"],\n",
    "          [\"A. Versace\", \"B. Givenchy\", \"C. Prada\", \"D. Gucci\"]]\n"
   ]
  },
  {
   "cell_type": "markdown",
   "metadata": {},
   "source": [
    "#### Extra Credit (*optional*)\n",
    "\n",
    "Replace all of this text with a brief explanation (~3 sentences) of: \n",
    "My python background before this class was zero, I barely even knew what python was but now I feel much more confident strengthening my background in python. I challenged myself to learn something new with this project, is the functions behind the project, the code in the functions. It was hard to figure out how to put results as a percentage and the score, also how to get the code to do what I wanted it to do in my head."
   ]
  },
  {
   "cell_type": "code",
   "execution_count": null,
   "metadata": {},
   "outputs": [],
   "source": []
  }
 ],
 "metadata": {
  "kernelspec": {
   "display_name": "Python 3 (ipykernel)",
   "language": "python",
   "name": "python3"
  },
  "language_info": {
   "codemirror_mode": {
    "name": "ipython",
    "version": 3
   },
   "file_extension": ".py",
   "mimetype": "text/x-python",
   "name": "python",
   "nbconvert_exporter": "python",
   "pygments_lexer": "ipython3",
   "version": "3.9.5"
  }
 },
 "nbformat": 4,
 "nbformat_minor": 2
}
